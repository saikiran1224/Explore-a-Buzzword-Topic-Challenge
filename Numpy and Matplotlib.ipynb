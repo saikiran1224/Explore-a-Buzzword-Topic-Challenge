{
 "cells": [
  {
   "cell_type": "code",
   "execution_count": 4,
   "metadata": {},
   "outputs": [],
   "source": [
    "import numpy as np"
   ]
  },
  {
   "cell_type": "code",
   "execution_count": 6,
   "metadata": {},
   "outputs": [
    {
     "data": {
      "text/plain": [
       "0.28778933106541305"
      ]
     },
     "execution_count": 6,
     "metadata": {},
     "output_type": "execute_result"
    }
   ],
   "source": [
    "#Creating a Random Number \n",
    "np.random.random()"
   ]
  },
  {
   "cell_type": "code",
   "execution_count": 10,
   "metadata": {},
   "outputs": [
    {
     "data": {
      "text/plain": [
       "array([0, 4, 9, 5, 8, 0, 2, 8, 9, 8, 2, 9, 2, 8, 0, 8, 2, 7, 0, 2])"
      ]
     },
     "execution_count": 10,
     "metadata": {},
     "output_type": "execute_result"
    }
   ],
   "source": [
    "np.random.randint(0,10,20)"
   ]
  },
  {
   "cell_type": "code",
   "execution_count": 14,
   "metadata": {},
   "outputs": [
    {
     "data": {
      "text/plain": [
       "array([[1, 6, 3, 0, 6, 6],\n",
       "       [4, 5, 7, 6, 6, 5],\n",
       "       [2, 5, 3, 7, 8, 5],\n",
       "       [3, 2, 6, 8, 6, 7],\n",
       "       [4, 6, 3, 1, 3, 7]])"
      ]
     },
     "execution_count": 14,
     "metadata": {},
     "output_type": "execute_result"
    }
   ],
   "source": [
    "#np.random.randint(0,10,[4,5])\n",
    "np.random.randint(0,10,size=(5,6))"
   ]
  },
  {
   "cell_type": "code",
   "execution_count": 15,
   "metadata": {},
   "outputs": [
    {
     "data": {
      "text/plain": [
       "array([[3, 0, 9, 9, 2],\n",
       "       [2, 2, 7, 9, 1],\n",
       "       [1, 3, 4, 6, 8],\n",
       "       [0, 7, 8, 0, 0]])"
      ]
     },
     "execution_count": 15,
     "metadata": {},
     "output_type": "execute_result"
    }
   ],
   "source": [
    "np.random.randint(0,10,20).reshape([4,5])"
   ]
  },
  {
   "cell_type": "code",
   "execution_count": 17,
   "metadata": {},
   "outputs": [],
   "source": [
    "#it will create a Normal Distribution - Mean of Zero and SD of 1\n",
    "data = np.random.randn(1000)"
   ]
  },
  {
   "cell_type": "code",
   "execution_count": 20,
   "metadata": {},
   "outputs": [
    {
     "data": {
      "text/plain": [
       "(0.02146431839803351, 0.9903637037991296)"
      ]
     },
     "execution_count": 20,
     "metadata": {},
     "output_type": "execute_result"
    }
   ],
   "source": [
    "data.mean(), data.std()"
   ]
  },
  {
   "cell_type": "code",
   "execution_count": 21,
   "metadata": {},
   "outputs": [
    {
     "data": {
      "text/plain": [
       "array([ 0.67256659,  0.64046269,  1.03649561,  0.65325635,  0.14305433,\n",
       "       -0.00307486, -0.24695721,  0.27042231,  1.04173158, -1.94778836,\n",
       "       -0.44662202,  0.15513183,  0.22255203,  0.92238341, -0.25314067,\n",
       "        1.53072784, -1.0433284 ,  0.57953611,  0.11732888,  0.27688163,\n",
       "       -1.04145614, -0.22038792,  0.58099167,  0.29862013, -0.56027639,\n",
       "        0.71802942,  0.83034541,  0.21221276,  0.29645813,  0.44922399,\n",
       "        0.20294309,  0.57693197,  0.57240121,  2.07744916, -1.15133995,\n",
       "        0.62588498, -2.10186988, -0.74687703,  0.42872776, -0.93725341,\n",
       "        1.65583442,  0.53036719, -0.16178914,  1.03475862, -0.0049254 ,\n",
       "        0.16159569,  1.02041233,  0.2041578 , -0.3463792 , -0.05652024,\n",
       "        1.58393409, -0.63080231, -0.48295542,  0.12285188,  0.93046214,\n",
       "        0.09012558, -0.58289694,  0.10854731,  0.52066807,  1.61639932,\n",
       "       -0.87629934,  0.4007938 ,  0.18700551,  0.28637948,  0.21410897,\n",
       "        1.32375559, -0.69598557,  1.43876555,  0.67358365,  1.60043259,\n",
       "        0.65454843, -2.19935706,  1.59042256, -1.54322273, -0.39057458,\n",
       "        1.12197956, -0.75829858,  0.89564038, -0.16656676, -0.23221454,\n",
       "        0.78801596, -1.33645448,  1.58861941,  1.40155844, -0.3102788 ,\n",
       "        0.56846272, -1.40070875,  0.93197316, -0.73215277,  1.98330338,\n",
       "       -0.18294111,  1.11245697,  0.39772964,  0.1300562 ,  0.22248513,\n",
       "       -1.45304602,  1.40725235,  1.2372526 ,  0.09708485,  0.17756194,\n",
       "       -1.39936886,  0.6003131 , -1.71835043,  1.45827107, -0.22410396,\n",
       "        0.56162073, -0.33855696,  0.80741779, -0.43476168,  0.39885442,\n",
       "        0.67753743,  0.46544133,  0.49998377,  2.32524034, -0.29008669,\n",
       "       -0.27394833,  0.57564582, -0.07403396, -0.89197722,  0.6523699 ,\n",
       "        1.88495493,  0.1954751 , -0.88829267,  0.53540157,  0.51338637,\n",
       "       -0.48937358,  1.34015873,  2.09213474, -0.88472479,  1.78568867,\n",
       "        0.04697805, -0.52216709,  1.46598174, -1.1689297 ,  0.49416327,\n",
       "        0.03818639, -2.03985204,  0.74456183,  0.55930979,  0.06047558,\n",
       "        0.72288937, -1.86333319, -0.96283665,  0.48511237, -2.08931499,\n",
       "        0.63543116, -1.83670147,  0.40665391, -1.05446832, -0.21587145,\n",
       "       -1.03101932,  1.32931016,  0.44856613, -0.11571273, -0.97720229,\n",
       "        0.04116358,  0.21196205, -1.77482134,  0.60158098, -0.57852669,\n",
       "       -0.11737363,  0.46618267,  1.5565941 ,  0.06779778,  0.93047886,\n",
       "        1.10492382, -0.58544433,  0.59949324,  1.04381479,  0.87445875,\n",
       "        0.28946996, -0.21041782,  0.29929768,  0.75527301, -0.29893024,\n",
       "        0.20308811, -0.81196859,  0.91182898,  0.0421648 ,  0.21002172,\n",
       "        0.63233536, -1.92445418,  0.38177226,  1.84054057,  0.9891371 ,\n",
       "        1.00950691, -0.46568474, -0.41779367, -1.63616142,  1.54390247,\n",
       "       -0.64462186, -0.21580171, -0.46128383, -0.4066536 , -1.04982625,\n",
       "        0.43578655,  0.00823458,  0.03607534,  0.86834565, -0.68744498,\n",
       "       -1.22568182, -0.49602929, -1.27646772, -0.33074622, -1.4713628 ,\n",
       "       -1.76416517,  1.12296903, -0.65972642, -0.12383788,  0.55909305,\n",
       "        2.25246046, -0.7614401 , -0.38548644,  0.25824976, -1.66486393,\n",
       "       -0.00530014,  0.11854975, -0.60886578,  0.70584405, -1.49995838,\n",
       "        0.70437662, -0.46196029, -0.80830164, -0.35889215, -0.11893495,\n",
       "       -1.02846957, -0.23442406,  0.02714386,  1.21856818,  0.27399418,\n",
       "       -0.26650867,  1.52035422, -1.37362014,  0.27539881,  1.08531496,\n",
       "        0.37860666,  0.18896044, -0.31897046, -0.1190852 , -0.2676017 ,\n",
       "        0.01141124, -0.23300274,  1.38283877,  0.2601318 ,  0.33617541,\n",
       "        0.68353952,  1.46686702, -0.77698094, -1.42354088, -0.5927742 ,\n",
       "       -0.41068206, -1.07498934, -2.14979645, -2.13229298,  0.19971688,\n",
       "       -0.78132942,  0.35884414,  0.29013099, -1.81817525,  0.31785327,\n",
       "       -1.99270044, -1.49253824,  0.87657833, -1.13540392,  0.03129486,\n",
       "       -0.47073706,  0.03224315,  0.41521091, -0.60945811,  0.5564143 ,\n",
       "        1.43041529, -0.37114922, -0.76431838,  0.24679314, -0.92591495,\n",
       "        0.17251178,  0.0033582 ,  0.59784438,  0.43355759, -1.20855212,\n",
       "       -0.83042776,  0.82169591, -0.33761352,  1.77632734,  1.7176514 ,\n",
       "       -0.80209847,  1.00242567,  0.17913749, -0.39980227, -0.51340459,\n",
       "       -1.94310581,  1.12509765, -0.90255822, -2.15431604, -1.89045333,\n",
       "       -0.25061622, -0.38139903,  0.65678203,  0.65669921, -0.87891913,\n",
       "       -1.39550787,  2.53400651, -0.8897316 , -1.44717959,  0.54343504,\n",
       "       -0.89833955,  0.22469705, -0.69109483,  0.60623836, -1.41146347,\n",
       "       -1.23669997, -0.23152847,  0.40946294,  1.2823493 , -2.04801049,\n",
       "        0.03228555,  0.3858654 ,  0.26319083,  0.06614925,  2.1061637 ,\n",
       "        0.34075887, -0.54248826,  0.88646429, -0.16883867, -0.686642  ,\n",
       "       -0.50348425, -0.92050492,  0.07814441, -0.90898242, -0.04177197,\n",
       "        0.32002084, -0.59514681,  2.17250246, -0.45569196,  0.02361065,\n",
       "        0.21066824,  0.21205046, -0.22536071,  0.53892939,  0.35066661,\n",
       "       -0.72415219, -0.04132985, -0.00700974, -0.56165864,  1.18400764,\n",
       "       -0.35091394,  0.27092453,  1.35453293,  0.80208641, -1.43889599,\n",
       "        1.69014334, -0.46269199,  0.43602786,  0.27362324,  1.46653352,\n",
       "        1.16769749, -0.86918811,  1.65617129,  1.49551525,  0.52423211,\n",
       "        1.68153274,  0.28810458, -0.99256314, -0.54279516,  0.75049959,\n",
       "        0.06716143,  0.81708563, -0.454928  , -0.36502567,  1.8289886 ,\n",
       "        0.34610038, -0.38363418, -0.22178751, -0.55521083, -0.93934981,\n",
       "        0.5641321 ,  0.34425626,  0.41981347,  0.02745145, -1.21136243,\n",
       "        1.20088507, -0.23256997,  1.44180271, -0.7613006 ,  0.4148412 ,\n",
       "        2.52276402,  1.49271423,  1.20747711, -0.04856323,  0.71076559,\n",
       "        1.20740814,  1.46566007,  1.57710454,  0.04272426, -1.56361878,\n",
       "        1.21738796,  1.23838915,  2.00212187, -0.51919152,  1.12652451,\n",
       "       -1.2688418 , -0.47354198,  0.09747426,  0.61794533,  0.01796311,\n",
       "       -0.62532344,  0.81355435, -0.36295094, -0.33552761, -1.1430703 ,\n",
       "        0.51447616,  0.81770196, -0.08284277,  2.99388446,  0.40816535,\n",
       "        0.01675811, -0.99776762,  0.25986635, -1.09735854, -1.01969549,\n",
       "       -0.94438639, -0.36039794, -1.14770118,  0.57423122, -0.09819077,\n",
       "        0.05743236, -1.89049439, -1.3177582 , -0.15793462, -1.71948727,\n",
       "        1.9702773 , -2.17771819, -0.2812059 ,  0.90776114, -1.49347386,\n",
       "        1.59036112,  0.17837423,  0.80786487, -1.03430606, -0.88343878,\n",
       "       -0.09041176, -0.63082602, -1.77885285, -1.67310424, -1.29508147,\n",
       "        0.91137806,  0.64040556, -1.07728   , -0.6338268 , -0.4214487 ,\n",
       "        0.73270881, -0.01033183,  1.08122807, -0.49294918, -0.93611158,\n",
       "        0.52147172,  0.27787441,  0.11088372,  0.59005762, -0.42953633,\n",
       "       -0.25121758, -0.47243346, -0.06364832, -0.54965493,  1.41681068,\n",
       "       -1.6944507 ,  0.91654349,  1.02319402, -0.94992461,  0.86216381,\n",
       "        0.54092199, -0.34386979,  0.15055169, -0.14682827,  1.25803801,\n",
       "        0.55718061, -0.74205705,  0.54293714, -1.3045675 , -0.34555723,\n",
       "        1.03012469, -1.43337135, -0.64359864, -0.30541635,  0.45999509,\n",
       "        0.5934269 , -0.4117457 ,  0.94464505, -2.34033903, -0.95251026,\n",
       "       -0.18177881,  0.86334122,  0.90663861, -0.54808946, -0.61476177,\n",
       "        2.118262  ,  2.60568784,  0.19074215, -0.18839491, -0.74615149,\n",
       "        1.05420178, -2.03161316, -0.38675321,  0.96611716,  1.11815212,\n",
       "       -0.21762586,  0.19223626,  0.74413096,  0.12817523, -0.26082163,\n",
       "        1.02029793,  2.11947019,  0.70538766,  0.20291857, -0.15294672,\n",
       "       -2.2186981 , -0.60180122,  0.17892372,  1.12045752,  0.66351437,\n",
       "        0.27949428, -1.10308804,  0.34059045,  1.16327678, -1.51645906,\n",
       "        0.29212371,  1.87108318, -0.69150995,  1.54229052,  0.13264417,\n",
       "        1.36918121,  0.71260965, -0.74841284, -1.19307269, -1.56236634,\n",
       "        0.30585024,  1.45714001, -2.62362573,  0.64290377, -1.30378656,\n",
       "       -0.28277042,  0.75930931,  0.38818241,  1.32085947,  0.34951429,\n",
       "        0.60468489, -1.99068803,  0.16368401,  1.07068448,  0.36488215,\n",
       "       -0.35751268, -0.83398073, -2.46357273, -0.99654191, -0.81865847,\n",
       "        1.11580511,  0.34815286, -0.9976719 ,  0.18443499,  0.44816796,\n",
       "       -0.25796663,  0.44832813, -1.1157872 , -0.86563853, -1.16601934,\n",
       "       -2.25892485, -0.18702474, -0.03828492,  0.04808416,  0.22893843,\n",
       "        0.07310037,  1.66074745, -0.81897056, -0.02565991, -0.49650218,\n",
       "       -2.37014402,  0.70146564,  1.10304785, -0.01495025,  0.97902669,\n",
       "        0.46333114,  1.79772795,  1.76378903,  0.94328615,  1.4515734 ,\n",
       "       -0.66976599, -0.34472809,  0.23227996,  0.56028105,  0.19924349,\n",
       "        0.98774381, -0.43397892,  0.42661123,  0.57836087,  0.08096086,\n",
       "        1.17250833,  0.17698401,  0.83383455,  0.26308241, -1.12795205,\n",
       "        0.14126917, -0.33328404, -0.30579183,  1.92712435,  1.88886424,\n",
       "       -0.56851068,  1.0706726 ,  1.44096497,  1.54472394,  0.44060827,\n",
       "       -0.6828775 , -0.53217374,  0.72540453, -1.68590052,  0.85150512,\n",
       "        2.00321186, -0.41890983, -0.56481618,  0.39313283,  0.35347194,\n",
       "       -0.73651366,  1.14909084,  0.40827298, -0.35123249,  0.98722859,\n",
       "       -0.99106369,  0.33974907,  0.80267608,  0.76688288, -0.22102479,\n",
       "        0.78536631,  0.72150903, -1.01942183, -1.30864068, -1.87881263,\n",
       "        0.45618163,  1.05745334, -1.44338878,  1.6554794 , -0.9088917 ,\n",
       "        0.9787591 ,  1.61629781,  0.72566527,  0.45885169,  0.15319909,\n",
       "        0.79210007, -0.12949186, -2.27989982,  1.40990648,  1.72445766,\n",
       "       -0.28056429, -1.02192804, -0.37730582,  0.08456862,  1.25481412,\n",
       "       -0.16972064,  0.27288822,  0.16208296, -0.12730136, -0.32677306,\n",
       "        0.29992748, -0.32347809,  0.46419077,  1.05533735,  1.31268206,\n",
       "       -1.41701032, -0.2399215 ,  0.18033542,  1.57623157,  0.56662872,\n",
       "       -1.61376113, -0.50982844,  0.06571814, -0.58280295, -1.78939556,\n",
       "        0.46013171, -1.66762784, -0.0989929 , -0.48168264, -1.33281026,\n",
       "       -0.978424  , -1.20959791,  1.30879682, -1.04288034,  0.87035912,\n",
       "       -1.40832118,  0.59198573, -0.01965745,  1.35810252,  1.14996562,\n",
       "       -0.24676746, -0.53408862, -1.08805288,  0.04052019,  1.18937736,\n",
       "        0.82777457,  0.39191172, -0.80315018, -0.34700527, -2.38240962,\n",
       "        1.06031528, -1.40097059, -0.14003251, -0.50476263,  1.13889927,\n",
       "        0.12768216,  0.96197898, -0.51065812,  0.51979853,  1.00042145,\n",
       "        0.80694209,  0.56402164,  1.65378905,  0.13974951, -0.71021816,\n",
       "        0.76735006, -0.9087993 , -0.81699898, -0.18132498, -0.39146796,\n",
       "        1.17460242, -0.58228303, -1.42118407,  0.38913745,  2.16841331,\n",
       "       -1.48038058,  0.51075517, -1.81365379, -0.54894307, -0.14081908,\n",
       "        1.64473851, -0.63234897,  0.05421102, -0.72795922,  1.03728317,\n",
       "       -0.42709224, -2.16100203, -0.46301785, -0.74404619,  2.1672099 ,\n",
       "        0.76371805,  0.81406584,  0.50757583, -0.81825774, -0.32943082,\n",
       "        1.26651117, -1.00204481, -1.0123324 ,  1.96651658, -2.0021409 ,\n",
       "       -2.24906031, -0.45393908,  0.70860793,  0.82915782, -0.11408119,\n",
       "       -0.88794415,  0.15972444, -0.04944482,  0.83943622, -0.07992145,\n",
       "       -0.19906036, -0.78568474,  0.57818173,  0.10401478, -0.77035166,\n",
       "       -0.20374847, -1.28697128,  0.74104811, -0.7442376 , -0.47977298,\n",
       "        1.22896754,  0.8864095 ,  0.72268347,  0.0493885 ,  2.2501518 ,\n",
       "       -0.9560271 ,  1.02064277, -2.19174078, -0.24481855,  1.0482942 ,\n",
       "        0.00900792, -0.80023434, -0.3158153 , -0.07220451, -0.62181464,\n",
       "       -0.1532198 , -0.38691595,  0.39380945,  1.51213511, -0.64263319,\n",
       "        1.3273492 , -1.12761835, -0.76193185, -0.89947765, -1.8410698 ,\n",
       "        0.36078885, -0.93380123, -0.23745366,  0.6127985 , -2.77606669,\n",
       "       -1.03226754,  0.96683725, -0.52809042, -0.16950249, -0.81496976,\n",
       "        1.62613992,  0.73465488,  1.78056455, -1.58065495,  0.12869747,\n",
       "        1.30537795, -1.96926362, -1.13357676, -2.52531461,  0.60450547,\n",
       "       -0.83933472,  0.50004368,  1.13209919,  0.46973843, -0.78215338,\n",
       "        0.48293565,  0.88241682, -0.65465014,  0.15010998,  0.20648807,\n",
       "        1.55469412,  0.35255143,  1.26737424, -0.1184489 , -1.19876916,\n",
       "       -0.49070387,  0.05605966,  0.18201942, -1.37914955, -0.40158705,\n",
       "        0.45794684, -1.1342331 ,  0.10282924, -0.47222177,  0.15647062,\n",
       "        0.11189885, -0.31340756, -0.41833226, -0.84179885, -2.26633189,\n",
       "        0.31947454,  0.34963029,  0.60279098, -0.89751784,  0.33066262,\n",
       "        1.20625477, -0.02332769,  0.02428017, -0.98765009,  1.6175897 ,\n",
       "        0.79709801, -1.61145823,  0.84668291, -1.15697738, -1.03778398,\n",
       "       -0.21043572, -0.37142187, -2.55867335, -0.01747237,  0.26210236,\n",
       "        0.04647443,  1.56083354, -0.57055844, -1.56567387,  1.01072728,\n",
       "        0.56366648,  1.64555358, -0.35474051, -0.16708733, -0.58006344,\n",
       "       -0.27619983,  1.71262875, -0.94149677,  0.96371121,  0.17193735,\n",
       "       -1.14017158, -0.50018581,  1.22882373, -1.03254392,  0.07757873,\n",
       "        0.2893587 ,  0.63033426,  0.76724255, -2.05232895, -0.79670417,\n",
       "        1.0774028 ,  0.81657622, -0.35906326, -0.81189362,  0.47247034,\n",
       "        1.38908173,  0.34984433, -0.22143543,  0.85090221, -2.30816525,\n",
       "        0.5166504 , -0.02066463, -0.4891811 ,  0.51967287,  0.70865734,\n",
       "        0.549895  , -0.1051606 ,  0.34524019,  0.00581603, -0.97267025,\n",
       "       -0.72436048, -0.14923611, -0.13489233,  0.4378131 , -1.86102304,\n",
       "       -0.29167641, -1.05360691, -0.14790054,  0.10224952, -0.99211025,\n",
       "        0.53858236,  1.25975327, -0.24261684, -1.93623213,  1.43687705,\n",
       "       -1.03247425, -1.33057225, -0.4251302 ,  0.70150462,  1.13469128,\n",
       "       -1.58247146,  1.62419216, -0.47773233, -0.94224504,  0.35484092,\n",
       "        2.07189538, -0.06719492, -2.05657495, -1.35254301, -0.69925552,\n",
       "        1.89176879, -1.46758402, -1.39944826,  0.18542743,  0.80993559,\n",
       "       -1.44630772,  1.67939287, -1.97771329,  0.38468305, -1.06609801,\n",
       "       -0.04342639, -0.06820187, -0.37168421,  0.21444705, -0.14236532,\n",
       "        0.4763394 ,  0.82311071,  0.13921491,  0.62548868,  2.1601235 ,\n",
       "       -0.60831294,  1.68478132,  1.31256282,  0.85534223,  0.99925772,\n",
       "        1.42651747,  0.63144911, -0.29776542, -0.30099677, -0.2219386 ,\n",
       "       -0.88932783,  0.50960018, -0.83220906, -0.12666364,  0.13532242,\n",
       "       -0.44772142, -0.27686392, -0.92187688, -0.75619392, -0.06059344,\n",
       "       -0.29847457,  1.32149702,  0.96475022, -0.28594876,  0.31229122,\n",
       "        0.30353967, -0.53552112,  0.13255558, -0.46665177, -0.67116934,\n",
       "       -0.39944286, -0.0869932 ,  0.68845404, -1.56071755, -0.32336871,\n",
       "        0.74219382, -0.79161236,  1.4452892 ,  1.42844433, -0.75059066])"
      ]
     },
     "execution_count": 21,
     "metadata": {},
     "output_type": "execute_result"
    }
   ],
   "source": [
    "data"
   ]
  },
  {
   "cell_type": "code",
   "execution_count": 22,
   "metadata": {},
   "outputs": [
    {
     "data": {
      "text/plain": [
       "array([[[16, 18],\n",
       "        [16, 26],\n",
       "        [36, 33],\n",
       "        [30, 34],\n",
       "        [15, 13]],\n",
       "\n",
       "       [[37, 13],\n",
       "        [11, 31],\n",
       "        [26, 29],\n",
       "        [12, 16],\n",
       "        [14, 13]],\n",
       "\n",
       "       [[34, 18],\n",
       "        [34, 15],\n",
       "        [28, 27],\n",
       "        [16, 28],\n",
       "        [38, 24]],\n",
       "\n",
       "       [[22, 10],\n",
       "        [39, 37],\n",
       "        [24, 23],\n",
       "        [33, 31],\n",
       "        [23, 31]]])"
      ]
     },
     "execution_count": 22,
     "metadata": {},
     "output_type": "execute_result"
    }
   ],
   "source": [
    "np.random.randint(10,40,[4,5,2])\n",
    "#randint(a,b,[total_size,rowcount,columncount])"
   ]
  },
  {
   "cell_type": "code",
   "execution_count": 25,
   "metadata": {},
   "outputs": [],
   "source": [
    "#3D Matrix\n",
    "a = np.random.randint(10,20,[2,3,3])"
   ]
  },
  {
   "cell_type": "code",
   "execution_count": 26,
   "metadata": {},
   "outputs": [
    {
     "data": {
      "text/plain": [
       "(2, 3, 3)"
      ]
     },
     "execution_count": 26,
     "metadata": {},
     "output_type": "execute_result"
    }
   ],
   "source": [
    "a.shape"
   ]
  },
  {
   "cell_type": "code",
   "execution_count": 27,
   "metadata": {},
   "outputs": [
    {
     "data": {
      "text/plain": [
       "13.555555555555555"
      ]
     },
     "execution_count": 27,
     "metadata": {},
     "output_type": "execute_result"
    }
   ],
   "source": [
    "a.mean()"
   ]
  },
  {
   "cell_type": "code",
   "execution_count": 29,
   "metadata": {},
   "outputs": [
    {
     "data": {
      "text/plain": [
       "18"
      ]
     },
     "execution_count": 29,
     "metadata": {},
     "output_type": "execute_result"
    }
   ],
   "source": [
    "a.size"
   ]
  },
  {
   "cell_type": "code",
   "execution_count": 31,
   "metadata": {},
   "outputs": [],
   "source": [
    "#2D Matrix\n",
    "b = np.random.randint(10,20,[5,6])"
   ]
  },
  {
   "cell_type": "code",
   "execution_count": 32,
   "metadata": {},
   "outputs": [
    {
     "data": {
      "text/plain": [
       "array([[14, 10, 14, 13, 12, 17],\n",
       "       [15, 13, 15, 17, 11, 17],\n",
       "       [14, 17, 18, 18, 18, 19],\n",
       "       [19, 19, 15, 11, 17, 12],\n",
       "       [18, 19, 13, 18, 13, 13]])"
      ]
     },
     "execution_count": 32,
     "metadata": {},
     "output_type": "execute_result"
    }
   ],
   "source": [
    "b"
   ]
  },
  {
   "cell_type": "code",
   "execution_count": 33,
   "metadata": {},
   "outputs": [
    {
     "data": {
      "text/plain": [
       "459"
      ]
     },
     "execution_count": 33,
     "metadata": {},
     "output_type": "execute_result"
    }
   ],
   "source": [
    "b.sum()"
   ]
  },
  {
   "cell_type": "code",
   "execution_count": 34,
   "metadata": {},
   "outputs": [
    {
     "data": {
      "text/plain": [
       "array([ 80,  88, 104,  93,  94])"
      ]
     },
     "execution_count": 34,
     "metadata": {},
     "output_type": "execute_result"
    }
   ],
   "source": [
    "#Row sum sample for first Row 14+10+14+13+12+17 = 80\n",
    "b.sum(axis = 1)"
   ]
  },
  {
   "cell_type": "code",
   "execution_count": 37,
   "metadata": {},
   "outputs": [
    {
     "data": {
      "text/plain": [
       "array([[80, 78, 75, 77, 71, 78]])"
      ]
     },
     "execution_count": 37,
     "metadata": {},
     "output_type": "execute_result"
    }
   ],
   "source": [
    "#Column Sum Sample for 14+15+14+19+18 = 80\n",
    "# keepdims means to retain Original Dimensions if false it sees like as 1D array\n",
    "b.sum(axis=0, keepdims= True)"
   ]
  },
  {
   "cell_type": "code",
   "execution_count": 38,
   "metadata": {},
   "outputs": [
    {
     "data": {
      "text/plain": [
       "(1, 6)"
      ]
     },
     "execution_count": 38,
     "metadata": {},
     "output_type": "execute_result"
    }
   ],
   "source": [
    "#Will be same as 2D\n",
    "b.sum(axis=0, keepdims= True).shape"
   ]
  },
  {
   "cell_type": "code",
   "execution_count": 39,
   "metadata": {},
   "outputs": [
    {
     "data": {
      "text/plain": [
       "(6,)"
      ]
     },
     "execution_count": 39,
     "metadata": {},
     "output_type": "execute_result"
    }
   ],
   "source": [
    "# Convertig to 1D \n",
    "b.sum(axis=0).shape"
   ]
  },
  {
   "cell_type": "code",
   "execution_count": 42,
   "metadata": {},
   "outputs": [
    {
     "data": {
      "text/plain": [
       "array([ 1.,  2.,  3.,  4.,  5.,  6.,  7.,  8.,  9., 10.])"
      ]
     },
     "execution_count": 42,
     "metadata": {},
     "output_type": "execute_result"
    }
   ],
   "source": [
    "#linspace is for creating number of points between two inputs\n",
    "# Here between 1 ad 10, multiple continous 10 points are created\n",
    "np.linspace(1,10,10)"
   ]
  },
  {
   "cell_type": "code",
   "execution_count": 44,
   "metadata": {},
   "outputs": [
    {
     "data": {
      "text/plain": [
       "3.141592653589793"
      ]
     },
     "execution_count": 44,
     "metadata": {},
     "output_type": "execute_result"
    }
   ],
   "source": [
    "np.pi"
   ]
  },
  {
   "cell_type": "code",
   "execution_count": 45,
   "metadata": {},
   "outputs": [],
   "source": [
    "x = np.linspace(0,2*np.pi,100)"
   ]
  },
  {
   "cell_type": "code",
   "execution_count": 52,
   "metadata": {},
   "outputs": [
    {
     "data": {
      "text/plain": [
       "array([0.        , 0.06346652, 0.12693304, 0.19039955, 0.25386607,\n",
       "       0.31733259, 0.38079911, 0.44426563, 0.50773215, 0.57119866,\n",
       "       0.63466518, 0.6981317 , 0.76159822, 0.82506474, 0.88853126,\n",
       "       0.95199777, 1.01546429, 1.07893081, 1.14239733, 1.20586385,\n",
       "       1.26933037, 1.33279688, 1.3962634 , 1.45972992, 1.52319644,\n",
       "       1.58666296, 1.65012947, 1.71359599, 1.77706251, 1.84052903,\n",
       "       1.90399555, 1.96746207, 2.03092858, 2.0943951 , 2.15786162,\n",
       "       2.22132814, 2.28479466, 2.34826118, 2.41172769, 2.47519421,\n",
       "       2.53866073, 2.60212725, 2.66559377, 2.72906028, 2.7925268 ,\n",
       "       2.85599332, 2.91945984, 2.98292636, 3.04639288, 3.10985939,\n",
       "       3.17332591, 3.23679243, 3.30025895, 3.36372547, 3.42719199,\n",
       "       3.4906585 , 3.55412502, 3.61759154, 3.68105806, 3.74452458,\n",
       "       3.8079911 , 3.87145761, 3.93492413, 3.99839065, 4.06185717,\n",
       "       4.12532369, 4.1887902 , 4.25225672, 4.31572324, 4.37918976,\n",
       "       4.44265628, 4.5061228 , 4.56958931, 4.63305583, 4.69652235,\n",
       "       4.75998887, 4.82345539, 4.88692191, 4.95038842, 5.01385494,\n",
       "       5.07732146, 5.14078798, 5.2042545 , 5.26772102, 5.33118753,\n",
       "       5.39465405, 5.45812057, 5.52158709, 5.58505361, 5.64852012,\n",
       "       5.71198664, 5.77545316, 5.83891968, 5.9023862 , 5.96585272,\n",
       "       6.02931923, 6.09278575, 6.15625227, 6.21971879, 6.28318531])"
      ]
     },
     "execution_count": 52,
     "metadata": {},
     "output_type": "execute_result"
    }
   ],
   "source": [
    "x"
   ]
  },
  {
   "cell_type": "code",
   "execution_count": 54,
   "metadata": {},
   "outputs": [],
   "source": [
    "#It provides sin for each value in x array\n",
    "y = np.sin(x)"
   ]
  },
  {
   "cell_type": "code",
   "execution_count": 55,
   "metadata": {},
   "outputs": [
    {
     "data": {
      "text/plain": [
       "array([ 0.00000000e+00,  6.34239197e-02,  1.26592454e-01,  1.89251244e-01,\n",
       "        2.51147987e-01,  3.12033446e-01,  3.71662456e-01,  4.29794912e-01,\n",
       "        4.86196736e-01,  5.40640817e-01,  5.92907929e-01,  6.42787610e-01,\n",
       "        6.90079011e-01,  7.34591709e-01,  7.76146464e-01,  8.14575952e-01,\n",
       "        8.49725430e-01,  8.81453363e-01,  9.09631995e-01,  9.34147860e-01,\n",
       "        9.54902241e-01,  9.71811568e-01,  9.84807753e-01,  9.93838464e-01,\n",
       "        9.98867339e-01,  9.99874128e-01,  9.96854776e-01,  9.89821442e-01,\n",
       "        9.78802446e-01,  9.63842159e-01,  9.45000819e-01,  9.22354294e-01,\n",
       "        8.95993774e-01,  8.66025404e-01,  8.32569855e-01,  7.95761841e-01,\n",
       "        7.55749574e-01,  7.12694171e-01,  6.66769001e-01,  6.18158986e-01,\n",
       "        5.67059864e-01,  5.13677392e-01,  4.58226522e-01,  4.00930535e-01,\n",
       "        3.42020143e-01,  2.81732557e-01,  2.20310533e-01,  1.58001396e-01,\n",
       "        9.50560433e-02,  3.17279335e-02, -3.17279335e-02, -9.50560433e-02,\n",
       "       -1.58001396e-01, -2.20310533e-01, -2.81732557e-01, -3.42020143e-01,\n",
       "       -4.00930535e-01, -4.58226522e-01, -5.13677392e-01, -5.67059864e-01,\n",
       "       -6.18158986e-01, -6.66769001e-01, -7.12694171e-01, -7.55749574e-01,\n",
       "       -7.95761841e-01, -8.32569855e-01, -8.66025404e-01, -8.95993774e-01,\n",
       "       -9.22354294e-01, -9.45000819e-01, -9.63842159e-01, -9.78802446e-01,\n",
       "       -9.89821442e-01, -9.96854776e-01, -9.99874128e-01, -9.98867339e-01,\n",
       "       -9.93838464e-01, -9.84807753e-01, -9.71811568e-01, -9.54902241e-01,\n",
       "       -9.34147860e-01, -9.09631995e-01, -8.81453363e-01, -8.49725430e-01,\n",
       "       -8.14575952e-01, -7.76146464e-01, -7.34591709e-01, -6.90079011e-01,\n",
       "       -6.42787610e-01, -5.92907929e-01, -5.40640817e-01, -4.86196736e-01,\n",
       "       -4.29794912e-01, -3.71662456e-01, -3.12033446e-01, -2.51147987e-01,\n",
       "       -1.89251244e-01, -1.26592454e-01, -6.34239197e-02, -2.44929360e-16])"
      ]
     },
     "execution_count": 55,
     "metadata": {},
     "output_type": "execute_result"
    }
   ],
   "source": [
    "y"
   ]
  },
  {
   "cell_type": "code",
   "execution_count": 50,
   "metadata": {},
   "outputs": [],
   "source": [
    "import matplotlib.pyplot as plt"
   ]
  },
  {
   "cell_type": "code",
   "execution_count": 51,
   "metadata": {},
   "outputs": [
    {
     "data": {
      "text/plain": [
       "[<matplotlib.lines.Line2D at 0x55fdc70>]"
      ]
     },
     "execution_count": 51,
     "metadata": {},
     "output_type": "execute_result"
    },
    {
     "data": {
      "image/png": "[encoded data removed]",
      "text/plain": [
       "<Figure size 432x288 with 1 Axes>"
      ]
     },
     "metadata": {
      "needs_background": "light"
     },
     "output_type": "display_data"
    }
   ],
   "source": [
    "plt.plot(x,y)"
   ]
  },
  {
   "cell_type": "code",
   "execution_count": 60,
   "metadata": {},
   "outputs": [],
   "source": [
    "#For simpler Explanation for the Above Plotting \n",
    "x=[9,10,15,17]\n",
    "y=[4,2,10,9]"
   ]
  },
  {
   "cell_type": "code",
   "execution_count": 62,
   "metadata": {},
   "outputs": [
    {
     "data": {
      "text/plain": [
       "[<matplotlib.lines.Line2D at 0xef9a418>]"
      ]
     },
     "execution_count": 62,
     "metadata": {},
     "output_type": "execute_result"
    },
    {
     "data": {
      "image/png": "[encoded data removed]",
      "text/plain": [
       "<Figure size 432x288 with 1 Axes>"
      ]
     },
     "metadata": {
      "needs_background": "light"
     },
     "output_type": "display_data"
    }
   ],
   "source": [
    "#for every x, it takes y and plots (x,y) in the graph\n",
    "plt.plot(x,y)"
   ]
  },
  {
   "cell_type": "code",
   "execution_count": 63,
   "metadata": {},
   "outputs": [],
   "source": [
    "#Creating a Circle \n",
    "r =10"
   ]
  },
  {
   "cell_type": "code",
   "execution_count": 64,
   "metadata": {},
   "outputs": [],
   "source": [
    "theta = np.linspace(0,2*np.pi,200)"
   ]
  },
  {
   "cell_type": "code",
   "execution_count": 65,
   "metadata": {},
   "outputs": [],
   "source": [
    "x = r * np.sin(theta)\n",
    "y= r * np.cos(theta)"
   ]
  },
  {
   "cell_type": "code",
   "execution_count": 66,
   "metadata": {},
   "outputs": [
    {
     "data": {
      "text/plain": [
       "[<matplotlib.lines.Line2D at 0xefd3700>]"
      ]
     },
     "execution_count": 66,
     "metadata": {},
     "output_type": "execute_result"
    },
    {
     "data": {
      "image/png": "[encoded data removed]",
      "text/plain": [
       "<Figure size 432x288 with 1 Axes>"
      ]
     },
     "metadata": {
      "needs_background": "light"
     },
     "output_type": "display_data"
    }
   ],
   "source": [
    "plt.plot(x,y)"
   ]
  },
  {
   "cell_type": "code",
   "execution_count": 69,
   "metadata": {},
   "outputs": [
    {
     "data": {
      "text/plain": [
       "[<matplotlib.lines.Line2D at 0xf072af0>]"
      ]
     },
     "execution_count": 69,
     "metadata": {},
     "output_type": "execute_result"
    },
    {
     "data": {
      "image/png": "[encoded data removed]",
      "text/plain": [
       "<Figure size 288x288 with 1 Axes>"
      ]
     },
     "metadata": {
      "needs_background": "light"
     },
     "output_type": "display_data"
    }
   ],
   "source": [
    "# Here we are fixing the Scale so we are getting a Circle\n",
    "plt.figure(figsize=(4,4))\n",
    "plt.plot(x,y)"
   ]
  },
  {
   "cell_type": "code",
   "execution_count": null,
   "metadata": {},
   "outputs": [],
   "source": []
  }
 ],
 "metadata": {
  "kernelspec": {
   "display_name": "Python 3",
   "language": "python",
   "name": "python3"
  },
  "language_info": {
   "codemirror_mode": {
    "name": "ipython",
    "version": 3
   },
   "file_extension": ".py",
   "mimetype": "text/x-python",
   "name": "python",
   "nbconvert_exporter": "python",
   "pygments_lexer": "ipython3",
   "version": "3.8.3"
  }
 },
 "nbformat": 4,
 "nbformat_minor": 4
}
